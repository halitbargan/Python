{
  "nbformat": 4,
  "nbformat_minor": 0,
  "metadata": {
    "colab": {
      "name": "Exception Handling Block 13.12.2021",
      "provenance": [],
      "authorship_tag": "ABX9TyM8OD7ksl/5+ys2bCgclGdn",
      "include_colab_link": true
    },
    "kernelspec": {
      "name": "python3",
      "display_name": "Python 3"
    },
    "language_info": {
      "name": "python"
    }
  },
  "cells": [
    {
      "cell_type": "markdown",
      "metadata": {
        "id": "view-in-github",
        "colab_type": "text"
      },
      "source": [
        "<a href=\"https://colab.research.google.com/github/halitbargan/Python/blob/main/Exception_Handling_Block_13_12_2021.ipynb\" target=\"_parent\"><img src=\"https://colab.research.google.com/assets/colab-badge.svg\" alt=\"Open In Colab\"/></a>"
      ]
    },
    {
      "cell_type": "code",
      "execution_count": 7,
      "metadata": {
        "colab": {
          "base_uri": "https://localhost:8080/"
        },
        "id": "QXkRMRlc8rhq",
        "outputId": "1ca90dd4-331e-4909-d3a0-9df4bb9ed6d2"
      },
      "outputs": [
        {
          "output_type": "stream",
          "name": "stdout",
          "text": [
            "The first number please : 9\n",
            "The second number please : 0\n",
            "Something went wrong...Try again.\n",
            "Probably it is because of 'division by zero' error\n"
          ]
        }
      ],
      "source": [
        "while True:\n",
        "    no_one = int(input(\"The first number please : \"))\n",
        "    no_two = int(input(\"The second number please : \"))\n",
        "    try:\n",
        "        division = no_one / no_two\n",
        "        print(\"The result of the division is : \", division)\n",
        "        break\n",
        "    except Exception as e:\n",
        "        print(\"Something went wrong...Try again.\")\n",
        "        print(\"Probably it is because of '{}' error\".format(e))\n",
        "        break0"
      ]
    },
    {
      "cell_type": "code",
      "source": [
        "while True:\n",
        "    \n",
        "    try:\n",
        "\n",
        "        no_one = int(input(\"The first number please : \"))\n",
        "        no_two = int(input(\"The second number please : \"))\n",
        "        division = no_one / no_two\n",
        "        print(\"The result of the division is : \", division)\n",
        "        break\n",
        "    except Exception as e:\n",
        "        print(\"Something went wrong...Try again.\")\n",
        "        print(\"Probably it is because of '{}' error\".format(e))\n",
        "        break"
      ],
      "metadata": {
        "colab": {
          "base_uri": "https://localhost:8080/"
        },
        "id": "e5MjWNQWE4dq",
        "outputId": "5c6b667c-4fbe-47f8-87fd-d8bfc866f63e"
      },
      "execution_count": 9,
      "outputs": [
        {
          "output_type": "stream",
          "name": "stdout",
          "text": [
            "The first number please : 9\n",
            "The second number please : 0\n",
            "Something went wrong...Try again.\n",
            "Probably it is because of 'division by zero' error\n"
          ]
        }
      ]
    },
    {
      "cell_type": "code",
      "source": [
        "try :\n",
        "    a = 10\n",
        "    b = 2\n",
        "    print(\"The result of division is :\", c)\n",
        "except Exception as e:\n",
        "    print(\"The error message is :\", e)"
      ],
      "metadata": {
        "colab": {
          "base_uri": "https://localhost:8080/"
        },
        "id": "tBsvhRxdFdDa",
        "outputId": "315d97d9-03d1-4b39-df44-807c50f0cb83"
      },
      "execution_count": 10,
      "outputs": [
        {
          "output_type": "stream",
          "name": "stdout",
          "text": [
            "The error message is : name 'c' is not defined\n"
          ]
        }
      ]
    },
    {
      "cell_type": "code",
      "source": [
        "try:\n",
        "    x = 2/0\n",
        "\n",
        "except ZeroDivisionError:\n",
        "    print('Attempt to divide by zero')\n",
        "except:\n",
        "    print('Something else went wrong')"
      ],
      "metadata": {
        "colab": {
          "base_uri": "https://localhost:8080/"
        },
        "id": "xmohcdJpHDeO",
        "outputId": "ccca3171-b3c2-4379-cae3-84f0acdd2b03"
      },
      "execution_count": 11,
      "outputs": [
        {
          "output_type": "stream",
          "name": "stdout",
          "text": [
            "Attempt to divide by zero\n"
          ]
        }
      ]
    },
    {
      "cell_type": "code",
      "source": [
        "try:\n",
        "    x \n",
        "except ZeroDivisionError:\n",
        "    print('Attempt to divide by zero')\n",
        "except:\n",
        "    print('Something else went wrong')"
      ],
      "metadata": {
        "id": "_RysZ55lLmVZ"
      },
      "execution_count": 15,
      "outputs": []
    },
    {
      "cell_type": "code",
      "source": [
        "fruits = [\"banana\", \"mango\", \"pear\", \"apple\", \"kiwi\", \"grape\"]\n",
        "\n",
        "while True :\n",
        "  try :\n",
        "    index = int(input(\"Pick an index number to choose your favourite fruit\"))\n",
        "    print(\"Your favorite fruit is\", fruits[index])\n",
        "    break\n",
        "  except IndexError :\n",
        "    print(\"There is no such an index. Try again!\")\n",
        "  except ValueError :\n",
        "    print(\"You should enter integer. Try again!\")"
      ],
      "metadata": {
        "colab": {
          "base_uri": "https://localhost:8080/"
        },
        "id": "morHR4HuQGJd",
        "outputId": "00ab10b6-794a-4946-eaef-ae9acb1e4a7d"
      },
      "execution_count": 17,
      "outputs": [
        {
          "output_type": "stream",
          "name": "stdout",
          "text": [
            "Pick an index number to choose your favourite fruit6\n",
            "There is no such an index. Try again!\n",
            "Pick an index number to choose your favourite fruit-9\n",
            "There is no such an index. Try again!\n",
            "Pick an index number to choose your favourite fruit-3\n",
            "Your favorite fruit is apple\n"
          ]
        }
      ]
    },
    {
      "cell_type": "code",
      "source": [
        "fruits = [\"banana\", \"mango\", \"pear\", \"apple\", \"kiwi\", \"grape\"]\n",
        "x = 3\n",
        "while x>0 :\n",
        "\n",
        "  try :\n",
        "    index = int(input(\"Pick an index number to choose your favourite fruit\"))\n",
        "    print(\"Your favorite fruit is\", fruits[index])\n",
        "    \n",
        "  except IndexError :\n",
        "    x -= 1\n",
        "    print(f\"Index error. You have {x} right left. Try AGAİN!\")\n",
        "    \n",
        "  except ValueError :\n",
        "    x-= 1\n",
        "    print(f\"vALUE error. You have {x} right left. Try AGAİN\")\n",
        "    \n",
        "  else:\n",
        "    print(\"Congrats You have entered valid input.\")\n",
        "    break\n",
        "\n",
        "  finally :\n",
        "    print(\"My fruits are fresh everytime!\")\n",
        "    "
      ],
      "metadata": {
        "colab": {
          "base_uri": "https://localhost:8080/"
        },
        "id": "Tj95RmtJR5mC",
        "outputId": "c42d49b3-4a1e-4f00-c67b-7f8d54992686"
      },
      "execution_count": 30,
      "outputs": [
        {
          "output_type": "stream",
          "name": "stdout",
          "text": [
            "Pick an index number to choose your favourite fruit9\n",
            "Index error. You have 2 right left. Try AGAİN!\n",
            "My fruits are fresh everytime!\n",
            "Pick an index number to choose your favourite fruit7\n",
            "Index error. You have 1 right left. Try AGAİN!\n",
            "My fruits are fresh everytime!\n",
            "Pick an index number to choose your favourite fruit3\n",
            "Your favorite fruit is apple\n",
            "Congrats You have entered valid input.\n",
            "My fruits are fresh everytime!\n"
          ]
        }
      ]
    },
    {
      "cell_type": "markdown",
      "source": [
        "Letters Count Soru Çözümü\n",
        "\n",
        "Task:\n",
        "\n",
        "Count the number of each letter in a sentence.\n",
        "The department you work for undertook a project construction that makes word / text analysis. You are asked to calculate the number of letters or any chars in the sentences entered under this project.\n",
        "Write a Python program that;\n",
        "takes a sentence from the user,\n",
        "counts the number of each letter of the sentence,\n",
        "collects the letters/chars as a key and the counted numbers as a value in a dictionary.\n",
        "\n",
        "Examples\n",
        "Sample inputs\tOutputs\n",
        "hippo runs to us!\t\n",
        "{'s': 2, 'r': 1, 't': 1, 'h': 1, 'n': 1, \n",
        "'i': 1, 'u': 2, 'o': 2, 'p': 2, ' ': 3, '!': 1}"
      ],
      "metadata": {
        "id": "uh1oqQy4aXUn"
      }
    },
    {
      "cell_type": "code",
      "source": [
        "string = \"bugün hüzünlüyüm. Ayrılık yakın. 2 session sonra ...\"\n"
      ],
      "metadata": {
        "id": "vvDuZmLgaqK3"
      },
      "execution_count": 32,
      "outputs": []
    },
    {
      "cell_type": "code",
      "source": [
        "string = input(\"Lütfen bir cümle giriniz: \")\n",
        "word_dict = {}\n",
        "\n",
        "for n in string :\n",
        "\n",
        "  if n in word_dict :\n",
        "    word_dict[n] += 1\n",
        "\n",
        "  else :\n",
        "    word_dict[n] = 1\n",
        "print(word_dict)"
      ],
      "metadata": {
        "colab": {
          "base_uri": "https://localhost:8080/"
        },
        "id": "KnfJwPphc3JH",
        "outputId": "438aab93-389f-4426-d813-9e2071e567b7"
      },
      "execution_count": 36,
      "outputs": [
        {
          "output_type": "stream",
          "name": "stdout",
          "text": [
            "Lütfen bir cümle giriniz: Güzel ünler göreceğiz güneşli günler!\n",
            "{'G': 1, 'ü': 4, 'z': 2, 'e': 6, 'l': 4, ' ': 4, 'n': 3, 'r': 3, 'g': 3, 'ö': 1, 'c': 1, 'ğ': 1, 'i': 2, 'ş': 1, '!': 1}\n"
          ]
        }
      ]
    },
    {
      "cell_type": "code",
      "source": [
        "tipler = [\"int\", \"str\", \"bool\", \"list\", \"tuple\", \"dict\", \"set\"]\n"
      ],
      "metadata": {
        "id": "Pxt63yRGd2hJ"
      },
      "execution_count": 38,
      "outputs": []
    },
    {
      "cell_type": "code",
      "source": [
        "veri = [\"a\", \"b\", True, (False, 1), {\"1\" : 2}, [1,2], {\"2\" : \"two\"}, {2, \"3\"}, \"c\", 23, 0]"
      ],
      "metadata": {
        "id": "wPqAvaJ4ei6C"
      },
      "execution_count": 39,
      "outputs": []
    },
    {
      "cell_type": "code",
      "source": [
        "{\"bool\" : 1, \"int\" : 2, \"list\" : 1, \"tuple\" : 1, \"str\" : 3}"
      ],
      "metadata": {
        "colab": {
          "base_uri": "https://localhost:8080/"
        },
        "id": "Mrnn9yXleuSq",
        "outputId": "93d5a7a2-c789-419a-b01a-f1a4224fec5b"
      },
      "execution_count": 40,
      "outputs": [
        {
          "output_type": "execute_result",
          "data": {
            "text/plain": [
              "{'bool': 1, 'int': 2, 'list': 1, 'str': 3, 'tuple': 1}"
            ]
          },
          "metadata": {},
          "execution_count": 40
        }
      ]
    },
    {
      "cell_type": "code",
      "source": [
        "{}.fromkeys(tipler, 0)"
      ],
      "metadata": {
        "colab": {
          "base_uri": "https://localhost:8080/"
        },
        "id": "-0s0TEB9fI1q",
        "outputId": "f808bb21-cdff-4413-b0f5-d05d13369e9c"
      },
      "execution_count": 41,
      "outputs": [
        {
          "output_type": "execute_result",
          "data": {
            "text/plain": [
              "{'bool': 0, 'dict': 0, 'int': 0, 'list': 0, 'set': 0, 'str': 0, 'tuple': 0}"
            ]
          },
          "metadata": {},
          "execution_count": 41
        }
      ]
    },
    {
      "cell_type": "code",
      "source": [
        "toplam = {}.fromkeys(tipler, 0)"
      ],
      "metadata": {
        "id": "j4vwLTlWf56i"
      },
      "execution_count": 43,
      "outputs": []
    },
    {
      "cell_type": "code",
      "source": [
        "len(veri)"
      ],
      "metadata": {
        "colab": {
          "base_uri": "https://localhost:8080/"
        },
        "id": "av1SflpKgARc",
        "outputId": "4719d820-0272-4df9-ba34-8dc2d4a7c359"
      },
      "execution_count": 44,
      "outputs": [
        {
          "output_type": "execute_result",
          "data": {
            "text/plain": [
              "11"
            ]
          },
          "metadata": {},
          "execution_count": 44
        }
      ]
    },
    {
      "cell_type": "code",
      "source": [
        "type(veri[0])"
      ],
      "metadata": {
        "colab": {
          "base_uri": "https://localhost:8080/"
        },
        "id": "LXryZvNTgDM-",
        "outputId": "5f73d989-2776-400d-9caa-dad932753289"
      },
      "execution_count": 45,
      "outputs": [
        {
          "output_type": "execute_result",
          "data": {
            "text/plain": [
              "str"
            ]
          },
          "metadata": {},
          "execution_count": 45
        }
      ]
    },
    {
      "cell_type": "code",
      "source": [
        "type(veri[5])"
      ],
      "metadata": {
        "colab": {
          "base_uri": "https://localhost:8080/"
        },
        "id": "i03cAsUfgHwy",
        "outputId": "9f8b25db-37e2-4809-de51-147f98590fbe"
      },
      "execution_count": 46,
      "outputs": [
        {
          "output_type": "execute_result",
          "data": {
            "text/plain": [
              "list"
            ]
          },
          "metadata": {},
          "execution_count": 46
        }
      ]
    },
    {
      "cell_type": "code",
      "source": [
        "type(veri[5]) == list"
      ],
      "metadata": {
        "colab": {
          "base_uri": "https://localhost:8080/"
        },
        "id": "ISxtaa2tgLVq",
        "outputId": "7eddb81a-b441-4615-a7c6-78630d8f9882"
      },
      "execution_count": 48,
      "outputs": [
        {
          "output_type": "execute_result",
          "data": {
            "text/plain": [
              "True"
            ]
          },
          "metadata": {},
          "execution_count": 48
        }
      ]
    },
    {
      "cell_type": "code",
      "source": [
        "type(veri[5]) == str"
      ],
      "metadata": {
        "colab": {
          "base_uri": "https://localhost:8080/"
        },
        "id": "BV84tEVTgUgi",
        "outputId": "bd0e4c96-2178-4b8b-aac3-9c024d3becde"
      },
      "execution_count": 51,
      "outputs": [
        {
          "output_type": "execute_result",
          "data": {
            "text/plain": [
              "False"
            ]
          },
          "metadata": {},
          "execution_count": 51
        }
      ]
    },
    {
      "cell_type": "code",
      "source": [
        "veri = [\"a\", \"b\", True, (False, 1), {\"1\" : 2}, [1,2], {\"2\" : \"two\"}, {2, \"3\"}, \"c\", 23, 0]\n",
        "for i in range (len(veri)) :\n",
        "  if type(veri[i]) == int : toplam[\"int\"] += 1\n",
        "  elif type(veri[i]) == str : toplam[\"str\"] += 1\n",
        "  elif type(veri[i]) == bool : toplam[\"bool\"] += 1\n",
        "  elif type(veri[i]) == list : toplam[\"list\"] += 1\n",
        "  elif type(veri[i]) == tuple : toplam[\"tuple\"] += 1\n",
        "  elif type(veri[i]) == dict : toplam[\"dict\"] += 1\n",
        "  elif type(veri[i]) == set : toplam[\"set\"] += 1\n",
        "toplam"
      ],
      "metadata": {
        "colab": {
          "base_uri": "https://localhost:8080/"
        },
        "id": "onsw3EbcghAk",
        "outputId": "46ecb78d-0ab5-46fa-f9c9-40d340c51500"
      },
      "execution_count": 55,
      "outputs": [
        {
          "output_type": "execute_result",
          "data": {
            "text/plain": [
              "{'bool': 4, 'dict': 8, 'int': 8, 'list': 4, 'set': 4, 'str': 12, 'tuple': 4}"
            ]
          },
          "metadata": {},
          "execution_count": 55
        }
      ]
    }
  ]
}