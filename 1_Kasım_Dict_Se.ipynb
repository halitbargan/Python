{
  "nbformat": 4,
  "nbformat_minor": 0,
  "metadata": {
    "colab": {
      "name": "1 Kasım Dict-Se",
      "provenance": [],
      "collapsed_sections": [],
      "authorship_tag": "ABX9TyNA6v+MLSr507i7prHueOYi",
      "include_colab_link": true
    },
    "kernelspec": {
      "display_name": "Python 3",
      "name": "python3"
    },
    "language_info": {
      "name": "python"
    }
  },
  "cells": [
    {
      "cell_type": "markdown",
      "metadata": {
        "id": "view-in-github",
        "colab_type": "text"
      },
      "source": [
        "<a href=\"https://colab.research.google.com/github/halitbargan/Python/blob/main/1_Kas%C4%B1m_Dict_Se.ipynb\" target=\"_parent\"><img src=\"https://colab.research.google.com/assets/colab-badge.svg\" alt=\"Open In Colab\"/></a>"
      ]
    },
    {
      "cell_type": "code",
      "metadata": {
        "colab": {
          "base_uri": "https://localhost:8080/"
        },
        "id": "pvPVLkGizTnB",
        "outputId": "70c8bf36-11e2-4a3e-d77d-7d79df5800ab"
      },
      "source": [
        "dict_by_dict = {'animal':'dog',\n",
        "\t\t\t'planet': 'Neptun',\n",
        "\t\t\t'number': 40,\n",
        "\t\t\t'pi':3.14,\n",
        "\t\t\t'is_good': True}\n",
        "\n",
        "print(dict_by_dict.items(), '\\n')\n",
        "print(dict_by_dict.keys(), '\\n')\n",
        "print(dict_by_dict.values(), '\\n')"
      ],
      "execution_count": null,
      "outputs": [
        {
          "name": "stdout",
          "output_type": "stream",
          "text": [
            "dict_items([('animal', 'dog'), ('planet', 'Neptun'), ('number', 40), ('pi', 3.14), ('is_good', True)]) \n",
            "\n",
            "dict_keys(['animal', 'planet', 'number', 'pi', 'is_good']) \n",
            "\n",
            "dict_values(['dog', 'Neptun', 40, 3.14, True]) \n",
            "\n"
          ]
        }
      ]
    },
    {
      "cell_type": "code",
      "metadata": {
        "colab": {
          "base_uri": "https://localhost:8080/"
        },
        "id": "aE4XiNAfa7xN",
        "outputId": "f811c9f5-8734-4a2a-a693-6a57b31de2c0"
      },
      "source": [
        "myname = \"Joseph\"\n",
        "\n",
        "first_name = input(\"Please input your name to see the password: \")\n",
        "\n",
        "\n",
        "\n",
        "if first_name.title() == myname :\n",
        "\n",
        "  print(f\"Hello Joseph! The password is:  23HB\")\n",
        "\n",
        "else:\n",
        "\n",
        "  print(f\"Hello {first_name}! See you later.\")"
      ],
      "execution_count": null,
      "outputs": [
        {
          "output_type": "stream",
          "name": "stdout",
          "text": [
            "Please input your name to see the password: hALİT\n",
            "Hello hALİT! See you later.\n"
          ]
        }
      ]
    },
    {
      "cell_type": "code",
      "metadata": {
        "id": "n_fZDZSRuEyx"
      },
      "source": [
        ""
      ],
      "execution_count": null,
      "outputs": []
    },
    {
      "cell_type": "code",
      "metadata": {
        "id": "SPfeJBz8uK_y"
      },
      "source": [
        ""
      ],
      "execution_count": null,
      "outputs": []
    },
    {
      "cell_type": "code",
      "metadata": {
        "id": "XyTINVyokvl_",
        "colab": {
          "base_uri": "https://localhost:8080/"
        },
        "outputId": "cd5fa353-fefd-446f-8c26-bd89768ccf25"
      },
      "source": [
        "var= \"James Bond\"\n",
        "print(var[2::-1])"
      ],
      "execution_count": null,
      "outputs": [
        {
          "output_type": "stream",
          "name": "stdout",
          "text": [
            "maJ\n"
          ]
        }
      ]
    },
    {
      "cell_type": "markdown",
      "metadata": {
        "id": "BrDgyYuWOUFx"
      },
      "source": [
        "# Yeni Bölüm"
      ]
    },
    {
      "cell_type": "code",
      "metadata": {
        "colab": {
          "base_uri": "https://localhost:8080/"
        },
        "id": "zMstE6VlvvC9",
        "outputId": "c030051a-3495-4511-d66b-d75bc8fe7980"
      },
      "source": [
        "family = {'name1': 'Joseph', \n",
        "          'name2': 'Bella',\n",
        "          'name3': 'Aisha',\n",
        "          'name4': 'Tom'}\n",
        "print(family)"
      ],
      "execution_count": null,
      "outputs": [
        {
          "name": "stdout",
          "output_type": "stream",
          "text": [
            "{'name1': 'Joseph', 'name2': 'Bella', 'name3': 'Aisha', 'name4': 'Tom'}\n"
          ]
        }
      ]
    },
    {
      "cell_type": "code",
      "metadata": {
        "colab": {
          "base_uri": "https://localhost:8080/"
        },
        "id": "yxhZta2uvxzY",
        "outputId": "351a4034-f101-4e83-f417-a94fa983774f"
      },
      "source": [
        "family.update({\"name6\" : \"büşra\"})\n",
        "print(family)"
      ],
      "execution_count": null,
      "outputs": [
        {
          "name": "stdout",
          "output_type": "stream",
          "text": [
            "{'name1': 'Joseph', 'name2': 'Bella', 'name3': 'Aisha', 'name4': 'Tom', 'name6': 'büşra'}\n"
          ]
        }
      ]
    },
    {
      "cell_type": "code",
      "metadata": {
        "colab": {
          "base_uri": "https://localhost:8080/",
          "height": 35
        },
        "id": "YU3GxpkewtAF",
        "outputId": "81a916a4-210a-4939-a504-c0b408536e54"
      },
      "source": [
        "family[\"name2\"]"
      ],
      "execution_count": null,
      "outputs": [
        {
          "data": {
            "application/vnd.google.colaboratory.intrinsic+json": {
              "type": "string"
            },
            "text/plain": [
              "'Bella'"
            ]
          },
          "execution_count": 8,
          "metadata": {},
          "output_type": "execute_result"
        }
      ]
    },
    {
      "cell_type": "code",
      "metadata": {
        "colab": {
          "base_uri": "https://localhost:8080/"
        },
        "id": "xdsG3cwv0cep",
        "outputId": "d83965f2-543c-49b8-c73b-56e8fbc7badd"
      },
      "source": [
        "\"dog\" in dict_by_dict"
      ],
      "execution_count": null,
      "outputs": [
        {
          "data": {
            "text/plain": [
              "False"
            ]
          },
          "execution_count": 26,
          "metadata": {},
          "output_type": "execute_result"
        }
      ]
    },
    {
      "cell_type": "code",
      "metadata": {
        "colab": {
          "base_uri": "https://localhost:8080/"
        },
        "id": "D9nHW8E40o95",
        "outputId": "ea188d36-93c8-4d66-efbf-95b9c3f3cc56"
      },
      "source": [
        "\"planet\" not in dict_by_dict"
      ],
      "execution_count": null,
      "outputs": [
        {
          "data": {
            "text/plain": [
              "False"
            ]
          },
          "execution_count": 27,
          "metadata": {},
          "output_type": "execute_result"
        }
      ]
    },
    {
      "cell_type": "code",
      "metadata": {
        "colab": {
          "base_uri": "https://localhost:8080/"
        },
        "id": "a1NL0ETb1p1j",
        "outputId": "27118f8a-dec4-401a-acb4-3cd4d68ac055"
      },
      "source": [
        "school_records={\n",
        "\t'personal_info':\n",
        "\t\t{'kid':{'tom':{'class':'intermediate', 'age':10},\n",
        "\t\t\t'sue':{'class':'elemantary', 'age':8}\n",
        "\t\t\t},\n",
        "\t\t'teen':{'joseph':{'class':'college', 'age':19},\n",
        "\t\t\t'marry':{'class':'high school', 'age':16}\n",
        "\t\t\t},\n",
        "\t\t},\n",
        "\t'grades_info':\n",
        "\t\t{'kid':{'tom':{'math':88, 'speech':69},\n",
        "\t\t\t'sue':{'math':90, 'speech':81}\n",
        "\t\t\t},\n",
        "\t\t'teen':{'joseph':{'coding':80, 'math':89},\n",
        "\t\t\t'marry':{'coding':70, 'math':96}\n",
        "\t\t\t},\n",
        "\t\t}\n",
        "}\n",
        "print(school_records)"
      ],
      "execution_count": null,
      "outputs": [
        {
          "name": "stdout",
          "output_type": "stream",
          "text": [
            "{'personal_info': {'kid': {'tom': {'class': 'intermediate', 'age': 10}, 'sue': {'class': 'elemantary', 'age': 8}}, 'teen': {'joseph': {'class': 'college', 'age': 19}, 'marry': {'class': 'high school', 'age': 16}}}, 'grades_info': {'kid': {'tom': {'math': 88, 'speech': 69}, 'sue': {'math': 90, 'speech': 81}}, 'teen': {'joseph': {'coding': 80, 'math': 89}, 'marry': {'coding': 70, 'math': 96}}}}\n"
          ]
        }
      ]
    },
    {
      "cell_type": "code",
      "metadata": {
        "colab": {
          "base_uri": "https://localhost:8080/"
        },
        "id": "W03lxEmn5H1G",
        "outputId": "3eb5b34c-7337-4b8e-d052-b62747aef3f9"
      },
      "source": [
        "len(school_records)"
      ],
      "execution_count": null,
      "outputs": [
        {
          "data": {
            "text/plain": [
              "2"
            ]
          },
          "execution_count": 32,
          "metadata": {},
          "output_type": "execute_result"
        }
      ]
    },
    {
      "cell_type": "code",
      "metadata": {
        "colab": {
          "base_uri": "https://localhost:8080/",
          "height": 35
        },
        "id": "ps_m9QAe5Os2",
        "outputId": "e4d39ba4-c77b-4897-d152-2f4171e447d3"
      },
      "source": [
        "school_records[\"personal_info\"][\"kid\"][\"tom\"][\"class\"]"
      ],
      "execution_count": null,
      "outputs": [
        {
          "data": {
            "application/vnd.google.colaboratory.intrinsic+json": {
              "type": "string"
            },
            "text/plain": [
              "'intermediate'"
            ]
          },
          "execution_count": 34,
          "metadata": {},
          "output_type": "execute_result"
        }
      ]
    },
    {
      "cell_type": "code",
      "metadata": {
        "colab": {
          "base_uri": "https://localhost:8080/"
        },
        "id": "rBhhyy325zdO",
        "outputId": "dd390c61-d781-488a-8e83-d3434ba2a620"
      },
      "source": [
        "len(school_records[\"personal_info\"][\"kid\"][\"tom\"][\"class\"])"
      ],
      "execution_count": null,
      "outputs": [
        {
          "data": {
            "text/plain": [
              "12"
            ]
          },
          "execution_count": 35,
          "metadata": {},
          "output_type": "execute_result"
        }
      ]
    },
    {
      "cell_type": "code",
      "metadata": {
        "colab": {
          "base_uri": "https://localhost:8080/"
        },
        "id": "XWWMo4VJ6FGN",
        "outputId": "8d756871-44e2-470d-ce25-eaac8ca19ee5"
      },
      "source": [
        "school_records[\"personal_info\"][\"kid\"][\"tom\"][\"age\"]"
      ],
      "execution_count": null,
      "outputs": [
        {
          "data": {
            "text/plain": [
              "10"
            ]
          },
          "execution_count": 36,
          "metadata": {},
          "output_type": "execute_result"
        }
      ]
    },
    {
      "cell_type": "markdown",
      "metadata": {
        "id": "t0BBxlU359dH"
      },
      "source": [
        ""
      ]
    },
    {
      "cell_type": "code",
      "metadata": {
        "id": "5e4PSu0J7FC0"
      },
      "source": [
        "friends={\n",
        "    \"friend1\":{\"first\":\"Sue\", \"last\":\"Bold\"},\n",
        "    \"friend2\":{\"first\":\"Steve\", \"last\":\"Steve\"},\n",
        "    \"friend3\":{\"first\":\"George\", \"last\":\"Mina\"}\n",
        "}"
      ],
      "execution_count": null,
      "outputs": []
    },
    {
      "cell_type": "code",
      "metadata": {
        "colab": {
          "background_save": true,
          "base_uri": "https://localhost:8080/",
          "height": 239
        },
        "id": "xRKjfkuF9aq-",
        "outputId": "b763fff4-9fec-493c-d218-10579fe619dc"
      },
      "source": [
        "favourite={\n",
        "    \"friends\" : \n",
        "      \"friend1\" : {\"first\" : \"Sue\", \"last\" : \"Bold\"}\n",
        "      \n",
        "    \"family\"  : \n",
        "        \"family\" : {\"first\":\"Ace\", \"last\":\"Marry\"}\n",
        "    \n",
        "}\n",
        "   print(favourite)"
      ],
      "execution_count": null,
      "outputs": [
        {
          "ename": "SyntaxError",
          "evalue": "ignored",
          "output_type": "error",
          "traceback": [
            "\u001b[0;36m  File \u001b[0;32m\"<ipython-input-46-178ea716f3d8>\"\u001b[0;36m, line \u001b[0;32m5\u001b[0m\n\u001b[0;31m    \"family\"  : {\u001b[0m\n\u001b[0m           ^\u001b[0m\n\u001b[0;31mSyntaxError\u001b[0m\u001b[0;31m:\u001b[0m invalid syntax\n"
          ]
        }
      ]
    },
    {
      "cell_type": "code",
      "metadata": {
        "colab": {
          "base_uri": "https://localhost:8080/"
        },
        "id": "qKkeegmnAJ4B",
        "outputId": "851522b0-8c07-413b-f6f5-555033332a5a"
      },
      "source": [
        "ilk_kümem = {1, 2, 1, 0, 1}\n",
        "print(ilk_kümem)"
      ],
      "execution_count": null,
      "outputs": [
        {
          "output_type": "stream",
          "name": "stdout",
          "text": [
            "{0, 1, 2}\n"
          ]
        }
      ]
    },
    {
      "cell_type": "code",
      "metadata": {
        "colab": {
          "base_uri": "https://localhost:8080/"
        },
        "id": "EGf6iPSGBZh9",
        "outputId": "c3c33f3c-5073-4239-fd2c-e077e002c25c"
      },
      "source": [
        "letter = \" a b c d e f g h ı i j k l m n o p q r s t u v x w y z\".split()\n",
        "print(letter)"
      ],
      "execution_count": null,
      "outputs": [
        {
          "output_type": "stream",
          "name": "stdout",
          "text": [
            "['a', 'b', 'c', 'd', 'e', 'f', 'g', 'h', 'ı', 'i', 'j', 'k', 'l', 'm', 'n', 'o', 'p', 'q', 'r', 's', 't', 'u', 'v', 'x', 'w', 'y', 'z']\n"
          ]
        }
      ]
    },
    {
      "cell_type": "code",
      "metadata": {
        "colab": {
          "base_uri": "https://localhost:8080/"
        },
        "id": "EcZ9-bZnBsJc",
        "outputId": "cd21304c-cdb4-4e17-ad43-3791a1cf4814"
      },
      "source": [
        "print(set(letter))"
      ],
      "execution_count": null,
      "outputs": [
        {
          "output_type": "stream",
          "name": "stdout",
          "text": [
            "{'r', 'l', 'c', 'q', 'w', 'g', 'h', 's', 't', 'u', 'p', 'x', 'm', 'o', 'v', 'f', 'j', 'e', 'd', 'b', 'i', 'y', 'z', 'n', 'a', 'ı', 'k'}\n"
          ]
        }
      ]
    },
    {
      "cell_type": "code",
      "metadata": {
        "colab": {
          "base_uri": "https://localhost:8080/"
        },
        "id": "9TQOL-OiCYi5",
        "outputId": "8846426a-7740-45ef-f4cc-87816582d3f2"
      },
      "source": [
        "\"a-b-c-d\".split(\"-\")"
      ],
      "execution_count": null,
      "outputs": [
        {
          "output_type": "execute_result",
          "data": {
            "text/plain": [
              "['a', 'b', 'c', 'd']"
            ]
          },
          "metadata": {},
          "execution_count": 51
        }
      ]
    },
    {
      "cell_type": "code",
      "metadata": {
        "colab": {
          "base_uri": "https://localhost:8080/"
        },
        "id": "h5cj7LvCDLuw",
        "outputId": "7c7ab6a3-d8a6-4e91-b004-e8cb4bbee758"
      },
      "source": [
        "set_1 = {'red', 'blue', 'pink', 'red'}\n",
        "colors = 'red', 'blue', 'pink', 'red'\n",
        "set_2 = set(colors)\n",
        "print(set_1)"
      ],
      "execution_count": null,
      "outputs": [
        {
          "output_type": "stream",
          "name": "stdout",
          "text": [
            "{'pink', 'blue', 'red'}\n"
          ]
        }
      ]
    },
    {
      "cell_type": "code",
      "metadata": {
        "colab": {
          "base_uri": "https://localhost:8080/",
          "height": 167
        },
        "id": "N_FHZWz9KeDw",
        "outputId": "65036ef4-7e7d-4d69-84df-2f73a36f9778"
      },
      "source": [
        "karışık = {[1,2,3], {1 : \"bir\"}, (\"üç\",\"dört\")}"
      ],
      "execution_count": null,
      "outputs": [
        {
          "output_type": "error",
          "ename": "TypeError",
          "evalue": "ignored",
          "traceback": [
            "\u001b[0;31m---------------------------------------------------------------------------\u001b[0m",
            "\u001b[0;31mTypeError\u001b[0m                                 Traceback (most recent call last)",
            "\u001b[0;32m<ipython-input-53-844294926246>\u001b[0m in \u001b[0;36m<module>\u001b[0;34m()\u001b[0m\n\u001b[0;32m----> 1\u001b[0;31m \u001b[0mkarışık\u001b[0m \u001b[0;34m=\u001b[0m \u001b[0;34m{\u001b[0m\u001b[0;34m[\u001b[0m\u001b[0;36m1\u001b[0m\u001b[0;34m,\u001b[0m\u001b[0;36m2\u001b[0m\u001b[0;34m,\u001b[0m\u001b[0;36m3\u001b[0m\u001b[0;34m]\u001b[0m\u001b[0;34m,\u001b[0m \u001b[0;34m{\u001b[0m\u001b[0;36m1\u001b[0m \u001b[0;34m:\u001b[0m \u001b[0;34m\"bir\"\u001b[0m\u001b[0;34m}\u001b[0m\u001b[0;34m,\u001b[0m \u001b[0;34m(\u001b[0m\u001b[0;34m\"üç\"\u001b[0m\u001b[0;34m,\u001b[0m\u001b[0;34m\"dört\"\u001b[0m\u001b[0;34m)\u001b[0m\u001b[0;34m}\u001b[0m\u001b[0;34m\u001b[0m\u001b[0;34m\u001b[0m\u001b[0m\n\u001b[0m",
            "\u001b[0;31mTypeError\u001b[0m: unhashable type: 'list'"
          ]
        }
      ]
    },
    {
      "cell_type": "code",
      "metadata": {
        "colab": {
          "base_uri": "https://localhost:8080/",
          "height": 167
        },
        "id": "Zgg_wXfxK_1T",
        "outputId": "d8ff90c8-e2b8-4870-abcb-c4a908c8c097"
      },
      "source": [
        "set(karışık)"
      ],
      "execution_count": null,
      "outputs": [
        {
          "output_type": "error",
          "ename": "NameError",
          "evalue": "ignored",
          "traceback": [
            "\u001b[0;31m---------------------------------------------------------------------------\u001b[0m",
            "\u001b[0;31mNameError\u001b[0m                                 Traceback (most recent call last)",
            "\u001b[0;32m<ipython-input-54-59ef8920da5f>\u001b[0m in \u001b[0;36m<module>\u001b[0;34m()\u001b[0m\n\u001b[0;32m----> 1\u001b[0;31m \u001b[0mset\u001b[0m\u001b[0;34m(\u001b[0m\u001b[0mkarışık\u001b[0m\u001b[0;34m)\u001b[0m\u001b[0;34m\u001b[0m\u001b[0;34m\u001b[0m\u001b[0m\n\u001b[0m",
            "\u001b[0;31mNameError\u001b[0m: name 'karışık' is not defined"
          ]
        }
      ]
    },
    {
      "cell_type": "code",
      "metadata": {
        "colab": {
          "base_uri": "https://localhost:8080/",
          "height": 167
        },
        "id": "AnnNXCDqLMmg",
        "outputId": "c6e51c93-9815-4850-ae15-23e680928759"
      },
      "source": [
        "mix = {1, 2, {3, 4}}"
      ],
      "execution_count": null,
      "outputs": [
        {
          "output_type": "error",
          "ename": "TypeError",
          "evalue": "ignored",
          "traceback": [
            "\u001b[0;31m---------------------------------------------------------------------------\u001b[0m",
            "\u001b[0;31mTypeError\u001b[0m                                 Traceback (most recent call last)",
            "\u001b[0;32m<ipython-input-55-862c413219d2>\u001b[0m in \u001b[0;36m<module>\u001b[0;34m()\u001b[0m\n\u001b[0;32m----> 1\u001b[0;31m \u001b[0mmix\u001b[0m \u001b[0;34m=\u001b[0m \u001b[0;34m{\u001b[0m\u001b[0;36m1\u001b[0m\u001b[0;34m,\u001b[0m \u001b[0;36m2\u001b[0m\u001b[0;34m,\u001b[0m \u001b[0;34m{\u001b[0m\u001b[0;36m3\u001b[0m\u001b[0;34m,\u001b[0m \u001b[0;36m4\u001b[0m\u001b[0;34m}\u001b[0m\u001b[0;34m}\u001b[0m\u001b[0;34m\u001b[0m\u001b[0;34m\u001b[0m\u001b[0m\n\u001b[0m",
            "\u001b[0;31mTypeError\u001b[0m: unhashable type: 'set'"
          ]
        }
      ]
    },
    {
      "cell_type": "code",
      "metadata": {
        "colab": {
          "base_uri": "https://localhost:8080/",
          "height": 132
        },
        "id": "hrdmV90FLYAI",
        "outputId": "63f4e3c7-88bd-425a-e813-350b4013cd18"
      },
      "source": [
        "set_dict = {1, 2, {\"bir\" : \"iki\"}}]"
      ],
      "execution_count": null,
      "outputs": [
        {
          "output_type": "error",
          "ename": "SyntaxError",
          "evalue": "ignored",
          "traceback": [
            "\u001b[0;36m  File \u001b[0;32m\"<ipython-input-56-d8b2fb673540>\"\u001b[0;36m, line \u001b[0;32m1\u001b[0m\n\u001b[0;31m    set_dict = {1, 2, {\"bir\" : \"iki\"}}]\u001b[0m\n\u001b[0m                                      ^\u001b[0m\n\u001b[0;31mSyntaxError\u001b[0m\u001b[0;31m:\u001b[0m invalid syntax\n"
          ]
        }
      ]
    },
    {
      "cell_type": "code",
      "metadata": {
        "colab": {
          "base_uri": "https://localhost:8080/"
        },
        "id": "TOY1YMBRLYKm",
        "outputId": "7d15ecb7-796b-4d6e-dfc7-bd34dfe7aafe"
      },
      "source": [
        "tuple_set = {1,2,(3,4)}\n",
        "print(tuple_set)"
      ],
      "execution_count": null,
      "outputs": [
        {
          "output_type": "stream",
          "name": "stdout",
          "text": [
            "{1, 2, (3, 4)}\n"
          ]
        }
      ]
    },
    {
      "cell_type": "code",
      "metadata": {
        "colab": {
          "base_uri": "https://localhost:8080/"
        },
        "id": "b3h73hL7MIso",
        "outputId": "c25564e5-f68d-491e-c607-0a9ce2c110cf"
      },
      "source": [
        "a = {'carnation', 'orchid', 'rose', 'violet'} \n",
        "b = {'rose', 'orchid', 'rose', 'violet', 'carnation'}\n",
        "a==b"
      ],
      "execution_count": null,
      "outputs": [
        {
          "output_type": "execute_result",
          "data": {
            "text/plain": [
              "True"
            ]
          },
          "metadata": {},
          "execution_count": 61
        }
      ]
    },
    {
      "cell_type": "code",
      "metadata": {
        "colab": {
          "base_uri": "https://localhost:8080/"
        },
        "id": "zt_4R3KNNMeE",
        "outputId": "cc0a177c-bb1b-4171-ed2b-c3173af19251"
      },
      "source": [
        "a.add(\"lily\")\n",
        "a"
      ],
      "execution_count": null,
      "outputs": [
        {
          "output_type": "execute_result",
          "data": {
            "text/plain": [
              "{'carnation', 'lily', 'orchid', 'rose', 'violet'}"
            ]
          },
          "metadata": {},
          "execution_count": 63
        }
      ]
    },
    {
      "cell_type": "code",
      "metadata": {
        "id": "03I4iLNNOSfH"
      },
      "source": [
        " "
      ],
      "execution_count": null,
      "outputs": []
    },
    {
      "cell_type": "code",
      "metadata": {
        "id": "n4i4EVflOgEH"
      },
      "source": [
        ""
      ],
      "execution_count": null,
      "outputs": []
    }
  ]
}